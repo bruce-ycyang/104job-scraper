{
 "cells": [
  {
   "cell_type": "markdown",
   "metadata": {},
   "source": [
    "## 104 job web crawler"
   ]
  },
  {
   "cell_type": "code",
   "execution_count": 1,
   "metadata": {},
   "outputs": [],
   "source": [
    "import re\n",
    "import csv\n",
    "from datetime import datetime\n",
    "import requests\n",
    "from bs4 import BeautifulSoup"
   ]
  },
  {
   "cell_type": "code",
   "execution_count": 2,
   "metadata": {},
   "outputs": [],
   "source": [
    "#透過網址修改頁數\n",
    "def get_url(page):\n",
    "    template = \"https://www.104.com.tw/jobs/search/?ro=0&kwop=7&keyword=python&expansionType=area%2Cspec%2Ccom%1Cjob%2Cwf%2Cwktm&area=6001001000&order=12&asc=0&page={}&mode=s&jobsource=2018indexpoc&langFlag=0&langStatus=0\"\n",
    "    url = template.format(page)\n",
    "    return url"
   ]
  },
  {
   "cell_type": "code",
   "execution_count": 3,
   "metadata": {},
   "outputs": [],
   "source": [
    "url = get_url(\"1\")"
   ]
  },
  {
   "cell_type": "markdown",
   "metadata": {},
   "source": [
    "## parsing  single one"
   ]
  },
  {
   "cell_type": "code",
   "execution_count": 4,
   "metadata": {},
   "outputs": [],
   "source": [
    "response = requests.get(url)"
   ]
  },
  {
   "cell_type": "code",
   "execution_count": 5,
   "metadata": {},
   "outputs": [
    {
     "data": {
      "text/plain": [
       "<Response [200]>"
      ]
     },
     "execution_count": 5,
     "metadata": {},
     "output_type": "execute_result"
    }
   ],
   "source": [
    "response"
   ]
  },
  {
   "cell_type": "code",
   "execution_count": 6,
   "metadata": {},
   "outputs": [
    {
     "data": {
      "text/plain": [
       "'OK'"
      ]
     },
     "execution_count": 6,
     "metadata": {},
     "output_type": "execute_result"
    }
   ],
   "source": [
    "response.reason"
   ]
  },
  {
   "cell_type": "code",
   "execution_count": 7,
   "metadata": {},
   "outputs": [],
   "source": [
    "soup = BeautifulSoup(response.text, 'html.parser')"
   ]
  },
  {
   "cell_type": "code",
   "execution_count": 8,
   "metadata": {},
   "outputs": [],
   "source": [
    "bords = soup.find_all('article', 'b-block--top-bord')"
   ]
  },
  {
   "cell_type": "code",
   "execution_count": 9,
   "metadata": {},
   "outputs": [
    {
     "data": {
      "text/plain": [
       "24"
      ]
     },
     "execution_count": 9,
     "metadata": {},
     "output_type": "execute_result"
    }
   ],
   "source": [
    "len(bords)"
   ]
  },
  {
   "cell_type": "code",
   "execution_count": 10,
   "metadata": {},
   "outputs": [],
   "source": [
    " bord = bords[8]"
   ]
  },
  {
   "cell_type": "code",
   "execution_count": 11,
   "metadata": {},
   "outputs": [],
   "source": [
    "atag = bord.h2.a"
   ]
  },
  {
   "cell_type": "code",
   "execution_count": 12,
   "metadata": {},
   "outputs": [
    {
     "data": {
      "text/plain": [
       "str"
      ]
     },
     "execution_count": 12,
     "metadata": {},
     "output_type": "execute_result"
    }
   ],
   "source": [
    "type(atag.text)"
   ]
  },
  {
   "cell_type": "code",
   "execution_count": 13,
   "metadata": {},
   "outputs": [
    {
     "data": {
      "text/plain": [
       "'Python開發'"
      ]
     },
     "execution_count": 13,
     "metadata": {},
     "output_type": "execute_result"
    }
   ],
   "source": [
    "job_title = bord.h2.a.text\n",
    "job_title"
   ]
  },
  {
   "cell_type": "code",
   "execution_count": 14,
   "metadata": {},
   "outputs": [
    {
     "data": {
      "text/plain": [
       "'英屬維京群島商文思海輝技術有限公司台灣分公司'"
      ]
     },
     "execution_count": 14,
     "metadata": {},
     "output_type": "execute_result"
    }
   ],
   "source": [
    "company_name =  bord.ul.find('li',{'class':False}).a.text.strip()\n",
    "company_name"
   ]
  },
  {
   "cell_type": "code",
   "execution_count": 15,
   "metadata": {},
   "outputs": [],
   "source": [
    "many_info = bord.find('ul', {'class':\"b-list-inline b-clearfix job-list-intro b-content\"}).text.strip().split()"
   ]
  },
  {
   "cell_type": "code",
   "execution_count": 16,
   "metadata": {},
   "outputs": [],
   "source": [
    "degree = many_info.pop()\n",
    "experience = many_info.pop()\n",
    "location = many_info.pop()"
   ]
  },
  {
   "cell_type": "code",
   "execution_count": 17,
   "metadata": {},
   "outputs": [],
   "source": [
    "job_summary =  bord.find('p').text.strip().replace(\"\\n\",\"\")"
   ]
  },
  {
   "cell_type": "code",
   "execution_count": 18,
   "metadata": {},
   "outputs": [],
   "source": [
    "salary_tag = bord.find('div', {'class':'job-list-tag b-content'}).span.text\n",
    "if salary_tag == '待遇面議':\n",
    "    salary = ''\n",
    "else:\n",
    "    salary = salary_tag"
   ]
  },
  {
   "cell_type": "code",
   "execution_count": 19,
   "metadata": {},
   "outputs": [],
   "source": [
    "job_url = 'https:' + bord.h2.a.get(\"href\")"
   ]
  },
  {
   "cell_type": "code",
   "execution_count": 20,
   "metadata": {},
   "outputs": [],
   "source": [
    "date = bord.find('span',{'classs', 'b-tit__date'}).text.strip().replace('\\n','')\n",
    "if date == '':\n",
    "    date = 'sys recommend'\n",
    "today = datetime.today().strftime('%Y-%m-%d')"
   ]
  },
  {
   "cell_type": "code",
   "execution_count": 21,
   "metadata": {},
   "outputs": [],
   "source": [
    "record = (job_title, company_name, location, experience, degree, job_summary, salary, job_url, date, today)"
   ]
  },
  {
   "cell_type": "code",
   "execution_count": 22,
   "metadata": {},
   "outputs": [
    {
     "data": {
      "text/plain": [
       "('Python開發',\n",
       " '英屬維京群島商文思海輝技術有限公司台灣分公司',\n",
       " '台北市中正區',\n",
       " '經歷不拘',\n",
       " '專科',\n",
       " '1. 分析客戶需求，程序設計/框架流程等2. 按照項目計劃，完成相應的任務3. 輔助工具開發和維護Job Requirements：1. 熟練掌握 Python語言，2年以上python相關工作經驗；2. 有使用 Linux 的經驗；',\n",
       " '月薪50,000~80,000元',\n",
       " 'https://www.104.com.tw/job/7gel0?jobsource=jolist_b_relevance',\n",
       " '1/06',\n",
       " '2022-01-11')"
      ]
     },
     "execution_count": 22,
     "metadata": {},
     "output_type": "execute_result"
    }
   ],
   "source": [
    "record"
   ]
  },
  {
   "cell_type": "markdown",
   "metadata": {},
   "source": [
    "## put all to function"
   ]
  },
  {
   "cell_type": "code",
   "execution_count": 23,
   "metadata": {},
   "outputs": [],
   "source": [
    "def get_record(bord):\n",
    "    job_title = bord.h2.a.text\n",
    "    company_name =  bord.ul.find('li',{'class':False}).a.text.strip()\n",
    "    job_summary =  bord.find('p').text.strip().replace(\"\\n\",\"\").replace(\"\\r\",\"\")\n",
    "    job_url = 'https:' + bord.h2.a.get(\"href\")\n",
    "    today = datetime.today().strftime('%Y-%m-%d')    \n",
    "    \n",
    "    #多個<li>內容\n",
    "    many_info = bord.find('ul', {'class':\"b-list-inline b-clearfix job-list-intro b-content\"}).text.strip().split()\n",
    "    degree = many_info.pop()\n",
    "    experience = many_info.pop()\n",
    "    location = many_info.pop()\n",
    "    \n",
    "    #薪資面議\n",
    "    salary_tag = bord.find('div', {'class':'job-list-tag b-content'}).span.text\n",
    "    if salary_tag == '待遇面議':\n",
    "        salary = ''\n",
    "    else:\n",
    "        salary = salary_tag\n",
    "    \n",
    "    #系統推薦無日期\n",
    "    date = bord.find('span',{'classs', 'b-tit__date'}).text.strip().replace('\\n','')\n",
    "    if date == '':\n",
    "        date = 'system recommend'\n",
    "    \n",
    "    record = (job_title, company_name, location, experience, degree, job_summary, salary, job_url, date, today)    \n",
    "    return record"
   ]
  },
  {
   "cell_type": "code",
   "execution_count": 24,
   "metadata": {},
   "outputs": [],
   "source": [
    "records = []\n",
    "\n",
    "for bord in bords:\n",
    "    record = get_record(bord)\n",
    "    records.append(record)"
   ]
  },
  {
   "cell_type": "code",
   "execution_count": 25,
   "metadata": {},
   "outputs": [
    {
     "data": {
      "text/plain": [
       "('【運維】網路管理工程師(不同班別各1至2名)',\n",
       " '帝群網路科技有限公司',\n",
       " '台北市內湖區',\n",
       " '經歷不拘',\n",
       " '專科',\n",
       " '工作職責：1、依專案需求，建置 AWS、Aliyun等雲產品，進行環境配置、上線部署、安全管控等工作。2、負責網路環境管理及監控，包括端口開放管理、漏洞與補丁管理、防火牆策略設定。3、負責日常服務器的巡檢，包括狀態監控、升級、故障處理及優化等操作。4、負責及時回應生產環境的監控預警、故障及突發情況的分析和解決。5、負責運維相關腳本開發和平臺部署和自動化管理。6、主管交辦事項。任職要求：1、熟悉 TCP/IP 和 HTTP 協議及相關場景，能排查網路障礙，優化網路質量。2、有 Web 系統和相關組件的維護經驗，並曾佈署及維運Nginx等網站服務。3、熟悉腳本語言 Shell / Python 並有相關開發應用經驗，能進行系統診斷和優化。4、熟悉常用的監控系統，如 Zabbix、Prometheus、Cacti 等。5、擁有1年以上 linux 系統使用和管理經驗，熟悉系統原理。',\n",
       " '',\n",
       " 'https://www.104.com.tw/job/7am7x?jobsource=hotjob_chr',\n",
       " 'system recommend',\n",
       " '2022-01-11')"
      ]
     },
     "execution_count": 25,
     "metadata": {},
     "output_type": "execute_result"
    }
   ],
   "source": [
    "records[0]"
   ]
  },
  {
   "cell_type": "markdown",
   "metadata": {},
   "source": [
    "## 10 pages data"
   ]
  },
  {
   "cell_type": "code",
   "execution_count": 27,
   "metadata": {},
   "outputs": [
    {
     "data": {
      "text/plain": [
       "208"
      ]
     },
     "execution_count": 27,
     "metadata": {},
     "output_type": "execute_result"
    }
   ],
   "source": [
    "for page in range(1,11):\n",
    "    url = get_url(str(page))\n",
    "    \n",
    "    response = requests.get(url)\n",
    "    soup = BeautifulSoup(response.text, 'html.parser')\n",
    "    bords = soup.find_all('article', 'b-block--top-bord')\n",
    "    \n",
    "    for bord in bords:\n",
    "        record = get_record(bord)\n",
    "        records.append(record)\n",
    "len(records)"
   ]
  },
  {
   "cell_type": "markdown",
   "metadata": {},
   "source": [
    "## integration"
   ]
  },
  {
   "cell_type": "code",
   "execution_count": 29,
   "metadata": {},
   "outputs": [],
   "source": [
    "import re\n",
    "import csv\n",
    "from datetime import datetime\n",
    "import requests\n",
    "from bs4 import BeautifulSoup\n",
    "\n",
    "#透過網址修改頁數\n",
    "def get_url(page):\n",
    "    template = \"https://www.104.com.tw/jobs/search/?ro=0&kwop=7&keyword=python&expansionType=area%2Cspec%2Ccom%1Cjob%2Cwf%2Cwktm&area=6001001000&order=12&asc=0&page={}&mode=s&jobsource=2018indexpoc&langFlag=0&langStatus=0\"\n",
    "    url = template.format(page)\n",
    "    return url\n",
    "\n",
    "#拿資料\n",
    "def get_record(bord):\n",
    "    job_title = bord.h2.a.text\n",
    "    company_name =  bord.ul.find('li',{'class':False}).a.text.strip()\n",
    "    job_summary =  bord.find('p').text.strip().replace(\"\\n\",\"\").replace(\"\\r\",\"\")\n",
    "    job_url = 'https:' + bord.h2.a.get(\"href\")\n",
    "    today = datetime.today().strftime('%Y-%m-%d')    \n",
    "    \n",
    "    #多個<li>內容\n",
    "    many_info = bord.find('ul', {'class':\"b-list-inline b-clearfix job-list-intro b-content\"}).text.strip().split()\n",
    "    degree = many_info.pop()\n",
    "    experience = many_info.pop()\n",
    "    location = many_info.pop()\n",
    "    \n",
    "    #薪資面議\n",
    "    salary_tag = bord.find('div', {'class':'job-list-tag b-content'}).span.text\n",
    "    if salary_tag == '待遇面議':\n",
    "        salary = ''\n",
    "    else:\n",
    "        salary = salary_tag\n",
    "    \n",
    "    #系統推薦無日期\n",
    "    date = bord.find('span',{'classs', 'b-tit__date'}).text.strip().replace('\\n','')\n",
    "    if date == '':\n",
    "        date = 'system recommend'\n",
    "    \n",
    "    record = (job_title, company_name, location, experience, degree, job_summary, salary, job_url, date, today)    \n",
    "    return record\n",
    "\n",
    "def main(page):\n",
    "    record = []\n",
    "    \n",
    "    #get data\n",
    "    for page in range(1,page):\n",
    "        url = get_url(str(page))\n",
    "\n",
    "        response = requests.get(url)\n",
    "        soup = BeautifulSoup(response.text, 'html.parser')\n",
    "        bords = soup.find_all('article', 'b-block--top-bord')\n",
    "    \n",
    "        for bord in bords:\n",
    "            record = get_record(bord)\n",
    "            records.append(record)\n",
    "            \n",
    "    #save data\n",
    "    with open('results.csv', 'w', newline='', encoding='utf-8') as f:\n",
    "        writer = csv.writer(f)\n",
    "        writer.writerow(['JobTitle', 'Company', 'Location', 'Experience', 'Degree', 'Summary', 'Salary', 'JobUrl','PostDate', 'ExtractDate'  ])\n",
    "        writer.writerows(records)"
   ]
  },
  {
   "cell_type": "code",
   "execution_count": 30,
   "metadata": {},
   "outputs": [],
   "source": [
    "#主程式\n",
    "main(11)"
   ]
  },
  {
   "cell_type": "code",
   "execution_count": 34,
   "metadata": {},
   "outputs": [
    {
     "data": {
      "text/html": [
       "<div>\n",
       "<style scoped>\n",
       "    .dataframe tbody tr th:only-of-type {\n",
       "        vertical-align: middle;\n",
       "    }\n",
       "\n",
       "    .dataframe tbody tr th {\n",
       "        vertical-align: top;\n",
       "    }\n",
       "\n",
       "    .dataframe thead th {\n",
       "        text-align: right;\n",
       "    }\n",
       "</style>\n",
       "<table border=\"1\" class=\"dataframe\">\n",
       "  <thead>\n",
       "    <tr style=\"text-align: right;\">\n",
       "      <th></th>\n",
       "      <th>JobTitle</th>\n",
       "      <th>Company</th>\n",
       "      <th>Location</th>\n",
       "      <th>Experience</th>\n",
       "      <th>Degree</th>\n",
       "      <th>Summary</th>\n",
       "      <th>Salary</th>\n",
       "      <th>JobUrl</th>\n",
       "      <th>PostDate</th>\n",
       "      <th>ExtractDate</th>\n",
       "    </tr>\n",
       "  </thead>\n",
       "  <tbody>\n",
       "    <tr>\n",
       "      <th>0</th>\n",
       "      <td>【運維】網路管理工程師(不同班別各1至2名)</td>\n",
       "      <td>帝群網路科技有限公司</td>\n",
       "      <td>台北市內湖區</td>\n",
       "      <td>經歷不拘</td>\n",
       "      <td>專科</td>\n",
       "      <td>工作職責：1、依專案需求，建置 AWS、Aliyun等雲產品，進行環境配置、上線部署、安全管...</td>\n",
       "      <td>NaN</td>\n",
       "      <td>https://www.104.com.tw/job/7am7x?jobsource=hot...</td>\n",
       "      <td>system recommend</td>\n",
       "      <td>2022-01-11</td>\n",
       "    </tr>\n",
       "    <tr>\n",
       "      <th>1</th>\n",
       "      <td>網路行銷／數位行銷</td>\n",
       "      <td>猿創力程式設計學校_壞主意有限公司</td>\n",
       "      <td>台北市松山區</td>\n",
       "      <td>經歷不拘</td>\n",
       "      <td>專科</td>\n",
       "      <td>【關於網路行銷／數位行銷】網路行銷／數位行銷部，是猿創力的佈道師和化粧師，藉由強大的創意和行...</td>\n",
       "      <td>月薪30,000~40,000元</td>\n",
       "      <td>https://www.104.com.tw/job/6c59o?jobsource=hot...</td>\n",
       "      <td>system recommend</td>\n",
       "      <td>2022-01-11</td>\n",
       "    </tr>\n",
       "    <tr>\n",
       "      <th>2</th>\n",
       "      <td>【儲備幹部】財金儲備幹部(TA)</td>\n",
       "      <td>玉山銀行_玉山商業銀行股份有限公司</td>\n",
       "      <td>台北市松山區</td>\n",
       "      <td>經歷不拘</td>\n",
       "      <td>碩士</td>\n",
       "      <td>直接走進一流交易室，站上國際金融舞台1.接受輪調培育訓練，建立全面Treasury專業視野2...</td>\n",
       "      <td>NaN</td>\n",
       "      <td>https://www.104.com.tw/job/6v672?jobsource=hot...</td>\n",
       "      <td>system recommend</td>\n",
       "      <td>2022-01-11</td>\n",
       "    </tr>\n",
       "    <tr>\n",
       "      <th>3</th>\n",
       "      <td>Database/Back-end Engineer 後端資料庫開發工程師(可遠距上班)</td>\n",
       "      <td>美商迪諾亞股份有限公司台灣分公司</td>\n",
       "      <td>台北市內湖區</td>\n",
       "      <td>3年以上</td>\n",
       "      <td>大學</td>\n",
       "      <td>本職缺為後端開發工程師 (Back-end Engineer)， 從事本公司雲端服務器的後端...</td>\n",
       "      <td>NaN</td>\n",
       "      <td>https://www.104.com.tw/job/7hk4b?jobsource=hot...</td>\n",
       "      <td>system recommend</td>\n",
       "      <td>2022-01-11</td>\n",
       "    </tr>\n",
       "    <tr>\n",
       "      <th>4</th>\n",
       "      <td>Python Engineer</td>\n",
       "      <td>億力資訊股份有限公司</td>\n",
       "      <td>台北市內湖區</td>\n",
       "      <td>經歷不拘</td>\n",
       "      <td>高中</td>\n",
       "      <td>1.具備Python實務專案經驗2.有Vue開發框架佳3.太陽能系統開發4.主動性強、樂與團...</td>\n",
       "      <td>NaN</td>\n",
       "      <td>https://www.104.com.tw/job/5z6t9?jobsource=jol...</td>\n",
       "      <td>1/06</td>\n",
       "      <td>2022-01-11</td>\n",
       "    </tr>\n",
       "    <tr>\n",
       "      <th>5</th>\n",
       "      <td>Python Web Developer</td>\n",
       "      <td>StreetVoice _街聲股份有限公司</td>\n",
       "      <td>台北市松山區</td>\n",
       "      <td>1年以上</td>\n",
       "      <td>大學</td>\n",
       "      <td>開發派歌網站系統，主要針對音樂人以及業務管理端的使用者介面、流程進行開發及修改，持續優化。工...</td>\n",
       "      <td>月薪40,000~60,000元</td>\n",
       "      <td>https://www.104.com.tw/job/7982k?jobsource=jol...</td>\n",
       "      <td>12/30</td>\n",
       "      <td>2022-01-11</td>\n",
       "    </tr>\n",
       "    <tr>\n",
       "      <th>6</th>\n",
       "      <td>Python工程師</td>\n",
       "      <td>雙子數位科技有限公司</td>\n",
       "      <td>台北市內湖區</td>\n",
       "      <td>經歷不拘</td>\n",
       "      <td>學歷不拘</td>\n",
       "      <td>嗨～～哈囉～你是本公司要找的後端工程師高手嗎?就是你！別懷疑！！徵的就是你～本公司需要有在P...</td>\n",
       "      <td>NaN</td>\n",
       "      <td>https://www.104.com.tw/job/7g51e?jobsource=jol...</td>\n",
       "      <td>1/05</td>\n",
       "      <td>2022-01-11</td>\n",
       "    </tr>\n",
       "    <tr>\n",
       "      <th>7</th>\n",
       "      <td>python工程師</td>\n",
       "      <td>英特拉金融科技股份有限公司</td>\n",
       "      <td>台北市大安區</td>\n",
       "      <td>3年以上</td>\n",
       "      <td>大學</td>\n",
       "      <td>工作內容： 1. Python維運及系統開發2.熟悉Python語言3.既有程式優化及修正並...</td>\n",
       "      <td>NaN</td>\n",
       "      <td>https://www.104.com.tw/job/7fbet?jobsource=jol...</td>\n",
       "      <td>1/10</td>\n",
       "      <td>2022-01-11</td>\n",
       "    </tr>\n",
       "    <tr>\n",
       "      <th>8</th>\n",
       "      <td>Python開發</td>\n",
       "      <td>英屬維京群島商文思海輝技術有限公司台灣分公司</td>\n",
       "      <td>台北市中正區</td>\n",
       "      <td>經歷不拘</td>\n",
       "      <td>專科</td>\n",
       "      <td>1. 分析客戶需求，程序設計/框架流程等2. 按照項目計劃，完成相應的任務3. 輔助工具開發...</td>\n",
       "      <td>月薪50,000~80,000元</td>\n",
       "      <td>https://www.104.com.tw/job/7gel0?jobsource=jol...</td>\n",
       "      <td>1/06</td>\n",
       "      <td>2022-01-11</td>\n",
       "    </tr>\n",
       "    <tr>\n",
       "      <th>9</th>\n",
       "      <td>Python Developer / Senior Python Developer</td>\n",
       "      <td>鏈科股份有限公司</td>\n",
       "      <td>台北市松山區</td>\n",
       "      <td>3年以上</td>\n",
       "      <td>大學</td>\n",
       "      <td>government (NDF)!We’re hiring for python devel...</td>\n",
       "      <td>年薪700,000~1,500,000元</td>\n",
       "      <td>https://www.104.com.tw/job/7ff0w?jobsource=jol...</td>\n",
       "      <td>1/10</td>\n",
       "      <td>2022-01-11</td>\n",
       "    </tr>\n",
       "  </tbody>\n",
       "</table>\n",
       "</div>"
      ],
      "text/plain": [
       "                                       JobTitle                 Company  \\\n",
       "0                        【運維】網路管理工程師(不同班別各1至2名)              帝群網路科技有限公司   \n",
       "1                                    網路行銷／數位行銷        猿創力程式設計學校_壞主意有限公司   \n",
       "2                              【儲備幹部】財金儲備幹部(TA)       玉山銀行_玉山商業銀行股份有限公司   \n",
       "3  Database/Back-end Engineer 後端資料庫開發工程師(可遠距上班)        美商迪諾亞股份有限公司台灣分公司   \n",
       "4                               Python Engineer              億力資訊股份有限公司   \n",
       "5                          Python Web Developer   StreetVoice _街聲股份有限公司   \n",
       "6                                     Python工程師              雙子數位科技有限公司   \n",
       "7                                     python工程師           英特拉金融科技股份有限公司   \n",
       "8                                      Python開發  英屬維京群島商文思海輝技術有限公司台灣分公司   \n",
       "9    Python Developer / Senior Python Developer                鏈科股份有限公司   \n",
       "\n",
       "  Location Experience Degree  \\\n",
       "0   台北市內湖區       經歷不拘     專科   \n",
       "1   台北市松山區       經歷不拘     專科   \n",
       "2   台北市松山區       經歷不拘     碩士   \n",
       "3   台北市內湖區       3年以上     大學   \n",
       "4   台北市內湖區       經歷不拘     高中   \n",
       "5   台北市松山區       1年以上     大學   \n",
       "6   台北市內湖區       經歷不拘   學歷不拘   \n",
       "7   台北市大安區       3年以上     大學   \n",
       "8   台北市中正區       經歷不拘     專科   \n",
       "9   台北市松山區       3年以上     大學   \n",
       "\n",
       "                                             Summary                Salary  \\\n",
       "0  工作職責：1、依專案需求，建置 AWS、Aliyun等雲產品，進行環境配置、上線部署、安全管...                   NaN   \n",
       "1  【關於網路行銷／數位行銷】網路行銷／數位行銷部，是猿創力的佈道師和化粧師，藉由強大的創意和行...      月薪30,000~40,000元   \n",
       "2  直接走進一流交易室，站上國際金融舞台1.接受輪調培育訓練，建立全面Treasury專業視野2...                   NaN   \n",
       "3  本職缺為後端開發工程師 (Back-end Engineer)， 從事本公司雲端服務器的後端...                   NaN   \n",
       "4  1.具備Python實務專案經驗2.有Vue開發框架佳3.太陽能系統開發4.主動性強、樂與團...                   NaN   \n",
       "5  開發派歌網站系統，主要針對音樂人以及業務管理端的使用者介面、流程進行開發及修改，持續優化。工...      月薪40,000~60,000元   \n",
       "6  嗨～～哈囉～你是本公司要找的後端工程師高手嗎?就是你！別懷疑！！徵的就是你～本公司需要有在P...                   NaN   \n",
       "7  工作內容： 1. Python維運及系統開發2.熟悉Python語言3.既有程式優化及修正並...                   NaN   \n",
       "8  1. 分析客戶需求，程序設計/框架流程等2. 按照項目計劃，完成相應的任務3. 輔助工具開發...      月薪50,000~80,000元   \n",
       "9  government (NDF)!We’re hiring for python devel...  年薪700,000~1,500,000元   \n",
       "\n",
       "                                              JobUrl          PostDate  \\\n",
       "0  https://www.104.com.tw/job/7am7x?jobsource=hot...  system recommend   \n",
       "1  https://www.104.com.tw/job/6c59o?jobsource=hot...  system recommend   \n",
       "2  https://www.104.com.tw/job/6v672?jobsource=hot...  system recommend   \n",
       "3  https://www.104.com.tw/job/7hk4b?jobsource=hot...  system recommend   \n",
       "4  https://www.104.com.tw/job/5z6t9?jobsource=jol...              1/06   \n",
       "5  https://www.104.com.tw/job/7982k?jobsource=jol...             12/30   \n",
       "6  https://www.104.com.tw/job/7g51e?jobsource=jol...              1/05   \n",
       "7  https://www.104.com.tw/job/7fbet?jobsource=jol...              1/10   \n",
       "8  https://www.104.com.tw/job/7gel0?jobsource=jol...              1/06   \n",
       "9  https://www.104.com.tw/job/7ff0w?jobsource=jol...              1/10   \n",
       "\n",
       "  ExtractDate  \n",
       "0  2022-01-11  \n",
       "1  2022-01-11  \n",
       "2  2022-01-11  \n",
       "3  2022-01-11  \n",
       "4  2022-01-11  \n",
       "5  2022-01-11  \n",
       "6  2022-01-11  \n",
       "7  2022-01-11  \n",
       "8  2022-01-11  \n",
       "9  2022-01-11  "
      ]
     },
     "execution_count": 34,
     "metadata": {},
     "output_type": "execute_result"
    }
   ],
   "source": [
    "import pandas as pd\n",
    "\n",
    "df = pd.read_csv('./results.csv')\n",
    "df.head(10)"
   ]
  },
  {
   "cell_type": "code",
   "execution_count": null,
   "metadata": {},
   "outputs": [],
   "source": []
  }
 ],
 "metadata": {
  "kernelspec": {
   "display_name": "Python 3",
   "language": "python",
   "name": "python3"
  },
  "language_info": {
   "codemirror_mode": {
    "name": "ipython",
    "version": 3
   },
   "file_extension": ".py",
   "mimetype": "text/x-python",
   "name": "python",
   "nbconvert_exporter": "python",
   "pygments_lexer": "ipython3",
   "version": "3.8.5"
  }
 },
 "nbformat": 4,
 "nbformat_minor": 4
}
