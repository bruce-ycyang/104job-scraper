{
 "cells": [
  {
   "cell_type": "markdown",
   "metadata": {},
   "source": [
    "## 104 job web crawler"
   ]
  },
  {
   "cell_type": "code",
   "execution_count": 1,
   "metadata": {},
   "outputs": [],
   "source": [
    "import re\n",
    "import csv\n",
    "from datetime import datetime\n",
    "import requests\n",
    "from bs4 import BeautifulSoup"
   ]
  },
  {
   "cell_type": "code",
   "execution_count": 2,
   "metadata": {},
   "outputs": [],
   "source": [
    "#透過網址修改頁數\n",
    "def get_url(page):\n",
    "    template = \"https://www.104.com.tw/jobs/search/?ro=0&kwop=7&keyword=python&expansionType=area%2Cspec%2Ccom%1Cjob%2Cwf%2Cwktm&area=6001001000&order=12&asc=0&page={}&mode=s&jobsource=2018indexpoc&langFlag=0&langStatus=0\"\n",
    "    url = template.format(page)\n",
    "    return url"
   ]
  },
  {
   "cell_type": "code",
   "execution_count": 3,
   "metadata": {},
   "outputs": [],
   "source": [
    "url = get_url(\"1\")"
   ]
  },
  {
   "cell_type": "markdown",
   "metadata": {},
   "source": [
    "## parsing  single one"
   ]
  },
  {
   "cell_type": "code",
   "execution_count": 4,
   "metadata": {},
   "outputs": [],
   "source": [
    "response = requests.get(url)"
   ]
  },
  {
   "cell_type": "code",
   "execution_count": 5,
   "metadata": {},
   "outputs": [
    {
     "data": {
      "text/plain": [
       "<Response [200]>"
      ]
     },
     "execution_count": 5,
     "metadata": {},
     "output_type": "execute_result"
    }
   ],
   "source": [
    "response"
   ]
  },
  {
   "cell_type": "code",
   "execution_count": 6,
   "metadata": {},
   "outputs": [
    {
     "data": {
      "text/plain": [
       "'OK'"
      ]
     },
     "execution_count": 6,
     "metadata": {},
     "output_type": "execute_result"
    }
   ],
   "source": [
    "response.reason"
   ]
  },
  {
   "cell_type": "code",
   "execution_count": 7,
   "metadata": {},
   "outputs": [],
   "source": [
    "soup = BeautifulSoup(response.text, 'html.parser')"
   ]
  },
  {
   "cell_type": "code",
   "execution_count": 8,
   "metadata": {},
   "outputs": [],
   "source": [
    "bords = soup.find_all('article', 'b-block--top-bord')"
   ]
  },
  {
   "cell_type": "code",
   "execution_count": 9,
   "metadata": {},
   "outputs": [
    {
     "data": {
      "text/plain": [
       "24"
      ]
     },
     "execution_count": 9,
     "metadata": {},
     "output_type": "execute_result"
    }
   ],
   "source": [
    "len(bords)"
   ]
  },
  {
   "cell_type": "code",
   "execution_count": 10,
   "metadata": {},
   "outputs": [],
   "source": [
    " bord = bords[8]"
   ]
  },
  {
   "cell_type": "code",
   "execution_count": 11,
   "metadata": {},
   "outputs": [],
   "source": [
    "atag = bord.h2.a"
   ]
  },
  {
   "cell_type": "code",
   "execution_count": 12,
   "metadata": {},
   "outputs": [
    {
     "data": {
      "text/plain": [
       "str"
      ]
     },
     "execution_count": 12,
     "metadata": {},
     "output_type": "execute_result"
    }
   ],
   "source": [
    "type(atag.text)"
   ]
  },
  {
   "cell_type": "code",
   "execution_count": 13,
   "metadata": {},
   "outputs": [
    {
     "data": {
      "text/plain": [
       "'Python開發'"
      ]
     },
     "execution_count": 13,
     "metadata": {},
     "output_type": "execute_result"
    }
   ],
   "source": [
    "job_title = bord.h2.a.text\n",
    "job_title"
   ]
  },
  {
   "cell_type": "code",
   "execution_count": 14,
   "metadata": {},
   "outputs": [
    {
     "data": {
      "text/plain": [
       "'英屬維京群島商文思海輝技術有限公司台灣分公司'"
      ]
     },
     "execution_count": 14,
     "metadata": {},
     "output_type": "execute_result"
    }
   ],
   "source": [
    "company_name =  bord.ul.find('li',{'class':False}).a.text.strip()\n",
    "company_name"
   ]
  },
  {
   "cell_type": "code",
   "execution_count": 15,
   "metadata": {},
   "outputs": [],
   "source": [
    "many_info = bord.find('ul', {'class':\"b-list-inline b-clearfix job-list-intro b-content\"}).text.strip().split()"
   ]
  },
  {
   "cell_type": "code",
   "execution_count": 16,
   "metadata": {},
   "outputs": [],
   "source": [
    "degree = many_info.pop()\n",
    "experience = many_info.pop()\n",
    "location = many_info.pop()"
   ]
  },
  {
   "cell_type": "code",
   "execution_count": 17,
   "metadata": {},
   "outputs": [],
   "source": [
    "job_summary =  bord.find('p').text.strip().replace(\"\\n\",\"\")"
   ]
  },
  {
   "cell_type": "code",
   "execution_count": 18,
   "metadata": {},
   "outputs": [],
   "source": [
    "salary_tag = bord.find('div', {'class':'job-list-tag b-content'}).span.text\n",
    "if salary_tag == '待遇面議':\n",
    "    salary = ''\n",
    "else:\n",
    "    salary = salary_tag"
   ]
  },
  {
   "cell_type": "code",
   "execution_count": 19,
   "metadata": {},
   "outputs": [],
   "source": [
    "job_url = 'https:' + bord.h2.a.get(\"href\")"
   ]
  },
  {
   "cell_type": "code",
   "execution_count": 20,
   "metadata": {},
   "outputs": [],
   "source": [
    "date = bord.find('span',{'classs', 'b-tit__date'}).text.strip().replace('\\n','')\n",
    "if date == '':\n",
    "    date = 'sys recommend'\n",
    "today = datetime.today().strftime('%Y-%m-%d')"
   ]
  },
  {
   "cell_type": "code",
   "execution_count": 21,
   "metadata": {},
   "outputs": [],
   "source": [
    "record = (job_title, company_name, location, experience, degree, job_summary, salary, job_url, date, today)"
   ]
  },
  {
   "cell_type": "code",
   "execution_count": 22,
   "metadata": {},
   "outputs": [
    {
     "data": {
      "text/plain": [
       "('Python開發',\n",
       " '英屬維京群島商文思海輝技術有限公司台灣分公司',\n",
       " '台北市中正區',\n",
       " '經歷不拘',\n",
       " '專科',\n",
       " '1. 分析客戶需求，程序設計/框架流程等2. 按照項目計劃，完成相應的任務3. 輔助工具開發和維護Job Requirements：1. 熟練掌握 Python語言，2年以上python相關工作經驗；2. 有使用 Linux 的經驗；',\n",
       " '月薪50,000~80,000元',\n",
       " 'https://www.104.com.tw/job/7gel0?jobsource=jolist_b_relevance',\n",
       " '1/06',\n",
       " '2022-01-11')"
      ]
     },
     "execution_count": 22,
     "metadata": {},
     "output_type": "execute_result"
    }
   ],
   "source": [
    "record"
   ]
  },
  {
   "cell_type": "markdown",
   "metadata": {},
   "source": [
    "## put all to function"
   ]
  },
  {
   "cell_type": "code",
   "execution_count": 23,
   "metadata": {},
   "outputs": [],
   "source": [
    "def get_record(bord):\n",
    "    job_title = bord.h2.a.text\n",
    "    company_name =  bord.ul.find('li',{'class':False}).a.text.strip()\n",
    "    job_summary =  bord.find('p').text.strip().replace(\"\\n\",\"\").replace(\"\\r\",\"\")\n",
    "    job_url = 'https:' + bord.h2.a.get(\"href\")\n",
    "    today = datetime.today().strftime('%Y-%m-%d')    \n",
    "    \n",
    "    #多個<li>內容\n",
    "    many_info = bord.find('ul', {'class':\"b-list-inline b-clearfix job-list-intro b-content\"}).text.strip().split()\n",
    "    degree = many_info.pop()\n",
    "    experience = many_info.pop()\n",
    "    location = many_info.pop()\n",
    "    \n",
    "    #薪資面議\n",
    "    salary_tag = bord.find('div', {'class':'job-list-tag b-content'}).span.text\n",
    "    if salary_tag == '待遇面議':\n",
    "        salary = ''\n",
    "    else:\n",
    "        salary = salary_tag\n",
    "    \n",
    "    #系統推薦無日期\n",
    "    date = bord.find('span',{'classs', 'b-tit__date'}).text.strip().replace('\\n','')\n",
    "    if date == '':\n",
    "        date = 'system recommend'\n",
    "    \n",
    "    record = (job_title, company_name, location, experience, degree, job_summary, salary, job_url, date, today)    \n",
    "    return record"
   ]
  },
  {
   "cell_type": "code",
   "execution_count": 24,
   "metadata": {},
   "outputs": [],
   "source": [
    "records = []\n",
    "\n",
    "for bord in bords:\n",
    "    record = get_record(bord)\n",
    "    records.append(record)"
   ]
  },
  {
   "cell_type": "code",
   "execution_count": 25,
   "metadata": {},
   "outputs": [
    {
     "data": {
      "text/plain": [
       "('【運維】網路管理工程師(不同班別各1至2名)',\n",
       " '帝群網路科技有限公司',\n",
       " '台北市內湖區',\n",
       " '經歷不拘',\n",
       " '專科',\n",
       " '工作職責：1、依專案需求，建置 AWS、Aliyun等雲產品，進行環境配置、上線部署、安全管控等工作。2、負責網路環境管理及監控，包括端口開放管理、漏洞與補丁管理、防火牆策略設定。3、負責日常服務器的巡檢，包括狀態監控、升級、故障處理及優化等操作。4、負責及時回應生產環境的監控預警、故障及突發情況的分析和解決。5、負責運維相關腳本開發和平臺部署和自動化管理。6、主管交辦事項。任職要求：1、熟悉 TCP/IP 和 HTTP 協議及相關場景，能排查網路障礙，優化網路質量。2、有 Web 系統和相關組件的維護經驗，並曾佈署及維運Nginx等網站服務。3、熟悉腳本語言 Shell / Python 並有相關開發應用經驗，能進行系統診斷和優化。4、熟悉常用的監控系統，如 Zabbix、Prometheus、Cacti 等。5、擁有1年以上 linux 系統使用和管理經驗，熟悉系統原理。',\n",
       " '',\n",
       " 'https://www.104.com.tw/job/7am7x?jobsource=hotjob_chr',\n",
       " 'system recommend',\n",
       " '2022-01-11')"
      ]
     },
     "execution_count": 25,
     "metadata": {},
     "output_type": "execute_result"
    }
   ],
   "source": [
    "records[0]"
   ]
  },
  {
   "cell_type": "markdown",
   "metadata": {},
   "source": [
    "## 10 pages data"
   ]
  },
  {
   "cell_type": "code",
   "execution_count": 26,
   "metadata": {},
   "outputs": [
    {
     "ename": "IndentationError",
     "evalue": "expected an indented block (<ipython-input-26-76d7c3e3da9c>, line 9)",
     "output_type": "error",
     "traceback": [
      "\u001b[0;36m  File \u001b[0;32m\"<ipython-input-26-76d7c3e3da9c>\"\u001b[0;36m, line \u001b[0;32m9\u001b[0m\n\u001b[0;31m    record = get_record(bord)\u001b[0m\n\u001b[0m    ^\u001b[0m\n\u001b[0;31mIndentationError\u001b[0m\u001b[0;31m:\u001b[0m expected an indented block\n"
     ]
    }
   ],
   "source": [
    "for page in range(1,10):\n",
    "    url = get_url(str(page))\n",
    "    \n",
    "    response = requests.get(url)\n",
    "    soup = BeautifulSoup(response.text, 'html.parser')\n",
    "    bords = soup.find_all('article', 'b-block--top-bord')\n",
    "    \n",
    "    for bord in bords:\n",
    "        record = get_record(bord)\n",
    "        records.append(record)\n",
    "len(records)"
   ]
  },
  {
   "cell_type": "code",
   "execution_count": null,
   "metadata": {},
   "outputs": [],
   "source": []
  }
 ],
 "metadata": {
  "kernelspec": {
   "display_name": "Python 3",
   "language": "python",
   "name": "python3"
  },
  "language_info": {
   "codemirror_mode": {
    "name": "ipython",
    "version": 3
   },
   "file_extension": ".py",
   "mimetype": "text/x-python",
   "name": "python",
   "nbconvert_exporter": "python",
   "pygments_lexer": "ipython3",
   "version": "3.8.5"
  }
 },
 "nbformat": 4,
 "nbformat_minor": 4
}
